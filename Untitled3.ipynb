{
  "nbformat": 4,
  "nbformat_minor": 0,
  "metadata": {
    "colab": {
      "provenance": [],
      "authorship_tag": "ABX9TyO6Jk2mYBYs+4vPZg5ZeWYI",
      "include_colab_link": true
    },
    "kernelspec": {
      "name": "python3",
      "display_name": "Python 3"
    },
    "language_info": {
      "name": "python"
    }
  },
  "cells": [
    {
      "cell_type": "markdown",
      "metadata": {
        "id": "view-in-github",
        "colab_type": "text"
      },
      "source": [
        "<a href=\"https://colab.research.google.com/github/Ahmed1511/BackgoundJobsWithHangfireInDotNet6-Sechedualing-Jobs/blob/master/Untitled3.ipynb\" target=\"_parent\"><img src=\"https://colab.research.google.com/assets/colab-badge.svg\" alt=\"Open In Colab\"/></a>"
      ]
    },
    {
      "cell_type": "code",
      "execution_count": null,
      "metadata": {
        "id": "SijYZiMxQ_fS"
      },
      "outputs": [],
      "source": [
        "import torch\n",
        "import torch.nn as nn\n",
        "import torch.nn.functional as F\n",
        "import torch.optim as SGD\n",
        "import torchvision\n",
        "import torchvision.transforms as transforms\n",
        "\n",
        "import matplotlib.pyplot as plt\n",
        "import seaborn as sns\n",
        "import numpy as np\n"
      ]
    },
    {
      "cell_type": "code",
      "source": [
        "class FirstNN(nn.Module):\n",
        "    def __init__(self):\n",
        "        super().__init__()\n",
        "        self.w00 = nn.paramter(torch.tensor(1.1), requires_grad = false)\n",
        "        self.b00 = nn.paramter(torch.tensor(-0.5), requires_grad = false)\n",
        "\n",
        "        self.w01 = nn.paramter(torch.tensor(0.6), requires_grad = false)\n",
        "        self.b01 = nn.paramter(torch.tensor(-1.5), requires_grad = false)\n",
        "\n",
        "        self.w02 = nn.paramter(torch.tensor(0.5), requires_grad = false)\n",
        "        self.b02 = nn.paramter(torch.tensor(0.65), requires_grad = false)\n",
        "\n",
        "        self.w11 = nn.paramter(torch.tensor(1.55), requires_grad = false)\n",
        "        self.w12 = nn.paramter(torch.tensor(-0.7), requires_grad = false)\n",
        "        self.w13 = nn.paramter(torch.tensor(1.22), requires_grad = false)\n",
        "\n",
        "        self.w20 = nn.paramter(torch.tensor(1.6), requires_grad = false)\n",
        ""
      ],
      "metadata": {
        "id": "gAupwbtdSl7u"
      },
      "execution_count": null,
      "outputs": []
    },
    {
      "cell_type": "code",
      "source": [],
      "metadata": {
        "id": "UdCNyDnAT7GO"
      },
      "execution_count": null,
      "outputs": []
    }
  ]
}